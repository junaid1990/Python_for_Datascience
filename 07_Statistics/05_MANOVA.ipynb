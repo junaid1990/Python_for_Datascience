{
 "cells": [
  {
   "cell_type": "markdown",
   "metadata": {},
   "source": [
    "- IRIS\n",
    "- We are going to use the width and length columns as dependent variables.\n",
    "- Besides, the species column is used as the independent variable.\n",
    "- MANOVA by the statsmodel library."
   ]
  },
  {
   "cell_type": "code",
   "execution_count": 3,
   "metadata": {},
   "outputs": [],
   "source": [
    "# import libraries\n",
    "import pandas as pd\n",
    "import seaborn as sns\n",
    "import matplotlib.pyplot as plt\n",
    "from statsmodels.multivariate.manova import MANOVA\n"
   ]
  },
  {
   "cell_type": "code",
   "execution_count": 5,
   "metadata": {},
   "outputs": [
    {
     "data": {
      "text/html": [
       "<div>\n",
       "<style scoped>\n",
       "    .dataframe tbody tr th:only-of-type {\n",
       "        vertical-align: middle;\n",
       "    }\n",
       "\n",
       "    .dataframe tbody tr th {\n",
       "        vertical-align: top;\n",
       "    }\n",
       "\n",
       "    .dataframe thead th {\n",
       "        text-align: right;\n",
       "    }\n",
       "</style>\n",
       "<table border=\"1\" class=\"dataframe\">\n",
       "  <thead>\n",
       "    <tr style=\"text-align: right;\">\n",
       "      <th></th>\n",
       "      <th>sepal_length</th>\n",
       "      <th>sepal_width</th>\n",
       "      <th>petal_length</th>\n",
       "      <th>petal_width</th>\n",
       "      <th>species</th>\n",
       "    </tr>\n",
       "  </thead>\n",
       "  <tbody>\n",
       "    <tr>\n",
       "      <th>0</th>\n",
       "      <td>5.1</td>\n",
       "      <td>3.5</td>\n",
       "      <td>1.4</td>\n",
       "      <td>0.2</td>\n",
       "      <td>setosa</td>\n",
       "    </tr>\n",
       "    <tr>\n",
       "      <th>1</th>\n",
       "      <td>4.9</td>\n",
       "      <td>3.0</td>\n",
       "      <td>1.4</td>\n",
       "      <td>0.2</td>\n",
       "      <td>setosa</td>\n",
       "    </tr>\n",
       "    <tr>\n",
       "      <th>2</th>\n",
       "      <td>4.7</td>\n",
       "      <td>3.2</td>\n",
       "      <td>1.3</td>\n",
       "      <td>0.2</td>\n",
       "      <td>setosa</td>\n",
       "    </tr>\n",
       "    <tr>\n",
       "      <th>3</th>\n",
       "      <td>4.6</td>\n",
       "      <td>3.1</td>\n",
       "      <td>1.5</td>\n",
       "      <td>0.2</td>\n",
       "      <td>setosa</td>\n",
       "    </tr>\n",
       "    <tr>\n",
       "      <th>4</th>\n",
       "      <td>5.0</td>\n",
       "      <td>3.6</td>\n",
       "      <td>1.4</td>\n",
       "      <td>0.2</td>\n",
       "      <td>setosa</td>\n",
       "    </tr>\n",
       "  </tbody>\n",
       "</table>\n",
       "</div>"
      ],
      "text/plain": [
       "   sepal_length  sepal_width  petal_length  petal_width species\n",
       "0           5.1          3.5           1.4          0.2  setosa\n",
       "1           4.9          3.0           1.4          0.2  setosa\n",
       "2           4.7          3.2           1.3          0.2  setosa\n",
       "3           4.6          3.1           1.5          0.2  setosa\n",
       "4           5.0          3.6           1.4          0.2  setosa"
      ]
     },
     "execution_count": 5,
     "metadata": {},
     "output_type": "execute_result"
    }
   ],
   "source": [
    "# dataset load \n",
    "df = sns.load_dataset('iris')\n",
    "df.head()"
   ]
  },
  {
   "cell_type": "code",
   "execution_count": 6,
   "metadata": {},
   "outputs": [
    {
     "data": {
      "text/plain": [
       "Index(['sepal_length', 'sepal_width', 'petal_length', 'petal_width',\n",
       "       'species'],\n",
       "      dtype='object')"
      ]
     },
     "execution_count": 6,
     "metadata": {},
     "output_type": "execute_result"
    }
   ],
   "source": [
    "df.columns"
   ]
  },
  {
   "cell_type": "code",
   "execution_count": 14,
   "metadata": {},
   "outputs": [
    {
     "data": {
      "text/plain": [
       "<statsmodels.multivariate.manova.MANOVA at 0x1f6c63f9340>"
      ]
     },
     "execution_count": 14,
     "metadata": {},
     "output_type": "execute_result"
    }
   ],
   "source": [
    "# manova\n",
    "MANOVA.from_formula('sepal_length + sepal_width + petal_length + petal_width ~ species', data=df)\n",
    "\n",
    "# here all 4 columns length and width are dependent on species while species are indendent on these 4 columns. "
   ]
  },
  {
   "cell_type": "code",
   "execution_count": 13,
   "metadata": {},
   "outputs": [
    {
     "name": "stdout",
     "output_type": "stream",
     "text": [
      "                   Multivariate linear model\n",
      "================================================================\n",
      "                                                                \n",
      "----------------------------------------------------------------\n",
      "       Intercept         Value  Num DF  Den DF   F Value  Pr > F\n",
      "----------------------------------------------------------------\n",
      "          Wilks' lambda  0.0170 4.0000 144.0000 2086.7720 0.0000\n",
      "         Pillai's trace  0.9830 4.0000 144.0000 2086.7720 0.0000\n",
      " Hotelling-Lawley trace 57.9659 4.0000 144.0000 2086.7720 0.0000\n",
      "    Roy's greatest root 57.9659 4.0000 144.0000 2086.7720 0.0000\n",
      "----------------------------------------------------------------\n",
      "                                                                \n",
      "----------------------------------------------------------------\n",
      "        species          Value  Num DF  Den DF   F Value  Pr > F\n",
      "----------------------------------------------------------------\n",
      "          Wilks' lambda  0.0234 8.0000 288.0000  199.1453 0.0000\n",
      "         Pillai's trace  1.1919 8.0000 290.0000   53.4665 0.0000\n",
      " Hotelling-Lawley trace 32.4773 8.0000 203.4024  582.1970 0.0000\n",
      "    Roy's greatest root 32.1919 4.0000 145.0000 1166.9574 0.0000\n",
      "================================================================\n",
      "\n"
     ]
    }
   ],
   "source": [
    "mova = MANOVA.from_formula('sepal_length + sepal_width + petal_length + petal_width ~ species', data=df)\n",
    "# mova is object of (manova) to see results\n",
    "print(mova.mv_test())"
   ]
  },
  {
   "cell_type": "markdown",
   "metadata": {},
   "source": [
    "___"
   ]
  },
  {
   "cell_type": "code",
   "execution_count": 20,
   "metadata": {},
   "outputs": [
    {
     "name": "stdout",
     "output_type": "stream",
     "text": [
      "              A    B\n",
      "dates               \n",
      "2017-01-01  103   92\n",
      "2017-01-02   92   96\n",
      "2017-01-03  107  109\n",
      "2017-01-04  100   91\n",
      "2017-01-05   90  107\n",
      "2017-01-06  105   99\n",
      "2017-01-07   90  104\n",
      "2017-01-08   90  105\n",
      "2017-01-09  109  104\n",
      "2017-01-10   94   90\n",
      "                            OLS Regression Results                            \n",
      "==============================================================================\n",
      "Dep. Variable:                      B   R-squared:                       0.000\n",
      "Model:                            OLS   Adj. R-squared:                 -0.125\n",
      "Method:                 Least Squares   F-statistic:                 0.0005452\n",
      "Date:                Fri, 01 Apr 2022   Prob (F-statistic):              0.982\n",
      "Time:                        11:18:25   Log-Likelihood:                -33.201\n",
      "No. Observations:                  10   AIC:                             70.40\n",
      "Df Residuals:                       8   BIC:                             71.01\n",
      "Df Model:                           1                                         \n",
      "Covariance Type:            nonrobust                                         \n",
      "==============================================================================\n",
      "                 coef    std err          t      P>|t|      [0.025      0.975]\n",
      "------------------------------------------------------------------------------\n",
      "const        100.4481     32.127      3.127      0.014      26.363     174.533\n",
      "A             -0.0076      0.327     -0.023      0.982      -0.762       0.746\n",
      "==============================================================================\n",
      "Omnibus:                        2.865   Durbin-Watson:                   2.352\n",
      "Prob(Omnibus):                  0.239   Jarque-Bera (JB):                0.994\n",
      "Skew:                          -0.191   Prob(JB):                        0.608\n",
      "Kurtosis:                       1.504   Cond. No.                     1.33e+03\n",
      "==============================================================================\n",
      "\n",
      "Notes:\n",
      "[1] Standard Errors assume that the covariance matrix of the errors is correctly specified.\n",
      "[2] The condition number is large, 1.33e+03. This might indicate that there are\n",
      "strong multicollinearity or other numerical problems.\n"
     ]
    },
    {
     "name": "stderr",
     "output_type": "stream",
     "text": [
      "C:\\Users\\Junaid\\AppData\\Local\\Temp/ipykernel_14164/1235293917.py:10: FutureWarning: The pandas.datetime class is deprecated and will be removed from pandas in a future version. Import from datetime module instead.\n",
      "  datelist = pd.date_range(pd.datetime(2017, 1, 1).strftime('%Y-%m-%d'), periods=rows).tolist()\n",
      "C:\\Users\\Junaid\\anaconda3\\lib\\site-packages\\scipy\\stats\\stats.py:1541: UserWarning: kurtosistest only valid for n>=20 ... continuing anyway, n=10\n",
      "  warnings.warn(\"kurtosistest only valid for n>=20 ... continuing \"\n"
     ]
    }
   ],
   "source": [
    "import pandas as pd\n",
    "import numpy as np\n",
    "import matplotlib.dates as mdates\n",
    "import statsmodels.api as sm\n",
    "\n",
    "# Dataframe with some random numbers\n",
    "np.random.seed(123)\n",
    "rows = 10\n",
    "df = pd.DataFrame(np.random.randint(90,110,size=(rows, 2)), columns=list('AB'))\n",
    "datelist = pd.date_range(pd.datetime(2017, 1, 1).strftime('%Y-%m-%d'), periods=rows).tolist()\n",
    "df['dates'] = datelist \n",
    "df = df.set_index(['dates'])\n",
    "df.index = pd.to_datetime(df.index)\n",
    "print(df)\n",
    "\n",
    "# OLS estimates using statsmodels.api\n",
    "x = df['A']\n",
    "y = df['B']\n",
    "\n",
    "model = sm.OLS(y,sm.add_constant(x)).fit()\n",
    "\n",
    "# Output\n",
    "print(model.summary())"
   ]
  },
  {
   "cell_type": "markdown",
   "metadata": {},
   "source": [
    "- How to read it?\n",
    "- The p-value to consider in this case is that of Wilk's lamda, relative to the output variable species. as can see, even in this case it is significant."
   ]
  },
  {
   "cell_type": "code",
   "execution_count": null,
   "metadata": {},
   "outputs": [],
   "source": [
    "# assignment, \n",
    "# how to save the results in a tabulated format or a picture?\n",
    "# how to interpret MANOVA? "
   ]
  },
  {
   "cell_type": "code",
   "execution_count": null,
   "metadata": {},
   "outputs": [],
   "source": []
  }
 ],
 "metadata": {
  "interpreter": {
   "hash": "dff98a590be30daf5e5ae957ff0daf29fc86d204629d8034334decab129e526a"
  },
  "kernelspec": {
   "display_name": "Python 3.9.7 ('base')",
   "language": "python",
   "name": "python3"
  },
  "language_info": {
   "codemirror_mode": {
    "name": "ipython",
    "version": 3
   },
   "file_extension": ".py",
   "mimetype": "text/x-python",
   "name": "python",
   "nbconvert_exporter": "python",
   "pygments_lexer": "ipython3",
   "version": "3.9.7"
  },
  "orig_nbformat": 4
 },
 "nbformat": 4,
 "nbformat_minor": 2
}
