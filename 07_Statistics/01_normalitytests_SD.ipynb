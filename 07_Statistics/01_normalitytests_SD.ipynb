{
 "cells": [
  {
   "cell_type": "markdown",
   "metadata": {},
   "source": [
    "# How to check the normal or gaussian distribution of our data in Python?"
   ]
  },
  {
   "cell_type": "code",
   "execution_count": 1,
   "metadata": {},
   "outputs": [],
   "source": [
    "#import libararies\n",
    "import numpy as np\n",
    "import pandas as pd\n",
    "import seaborn as sns\n",
    "import scipy as sc\n",
    "import matplotlib.pyplot as plt"
   ]
  },
  {
   "cell_type": "code",
   "execution_count": 2,
   "metadata": {},
   "outputs": [
    {
     "data": {
      "text/plain": [
       "<matplotlib.collections.PathCollection at 0x1e04bb666b0>"
      ]
     },
     "execution_count": 2,
     "metadata": {},
     "output_type": "execute_result"
    },
    {
     "data": {
      "image/png": "[encoded data removed]",
      "text/plain": [
       "<Figure size 360x360 with 1 Axes>"
      ]
     },
     "metadata": {},
     "output_type": "display_data"
    }
   ],
   "source": [
    "#how to draw perfect normal distribution \n",
    "def pdf(x):\n",
    "    mean = np.mean(x)\n",
    "    std = np.std(x)\n",
    "    y_out = 1/(std*np.sqrt(2* np.pi))* np.exp(-(x- mean)**2/(2* std**2))\n",
    "    return y_out\n",
    "\n",
    "#to generate an array of x\n",
    "x= np.arange (-2,2,0.1)\n",
    "y=pdf(x)\n",
    "#plotting the normal curve/ bell curve / guassian distribution\n",
    "plt.style.use('seaborn')\n",
    "plt.figure(figsize=(5,5))\n",
    "plt.plot(x,y,color ='blue',linestyle ='dashed')\n",
    "#adding scatter plot on line\n",
    "plt.scatter(x,y, marker='o',s=25,color='red')"
   ]
  },
  {
   "cell_type": "markdown",
   "metadata": {},
   "source": [
    "# Normal disrributionand its test \n",
    "1. import dataset\n",
    "2. subsetting a dataset\n",
    "3. visual test for normal distribution\n",
    "   1. histogram\n",
    "   2. qq-norm test\n",
    "4. statistical test\n",
    "   1. Shapiro-Wilk Test\n",
    "   2. D’Agostino’s K^2 Test\n",
    "   3. Anderson-Darling Test\n",
    "p <= alpha: reject H0, not normal.\\ p > alpha: fail to reject H0, normal."
   ]
  },
  {
   "cell_type": "code",
   "execution_count": 3,
   "metadata": {},
   "outputs": [
    {
     "data": {
      "text/html": [
       "<div>\n",
       "<style scoped>\n",
       "    .dataframe tbody tr th:only-of-type {\n",
       "        vertical-align: middle;\n",
       "    }\n",
       "\n",
       "    .dataframe tbody tr th {\n",
       "        vertical-align: top;\n",
       "    }\n",
       "\n",
       "    .dataframe thead th {\n",
       "        text-align: right;\n",
       "    }\n",
       "</style>\n",
       "<table border=\"1\" class=\"dataframe\">\n",
       "  <thead>\n",
       "    <tr style=\"text-align: right;\">\n",
       "      <th></th>\n",
       "      <th>age</th>\n",
       "      <th>distance</th>\n",
       "      <th>YearsExperience</th>\n",
       "      <th>Salary</th>\n",
       "    </tr>\n",
       "  </thead>\n",
       "  <tbody>\n",
       "    <tr>\n",
       "      <th>0</th>\n",
       "      <td>31.1</td>\n",
       "      <td>77.75</td>\n",
       "      <td>1.1</td>\n",
       "      <td>39343</td>\n",
       "    </tr>\n",
       "    <tr>\n",
       "      <th>1</th>\n",
       "      <td>31.3</td>\n",
       "      <td>78.25</td>\n",
       "      <td>1.3</td>\n",
       "      <td>46205</td>\n",
       "    </tr>\n",
       "    <tr>\n",
       "      <th>2</th>\n",
       "      <td>31.5</td>\n",
       "      <td>78.75</td>\n",
       "      <td>1.5</td>\n",
       "      <td>37731</td>\n",
       "    </tr>\n",
       "    <tr>\n",
       "      <th>3</th>\n",
       "      <td>32.0</td>\n",
       "      <td>80.00</td>\n",
       "      <td>2.0</td>\n",
       "      <td>43525</td>\n",
       "    </tr>\n",
       "    <tr>\n",
       "      <th>4</th>\n",
       "      <td>32.2</td>\n",
       "      <td>80.50</td>\n",
       "      <td>2.2</td>\n",
       "      <td>39891</td>\n",
       "    </tr>\n",
       "  </tbody>\n",
       "</table>\n",
       "</div>"
      ],
      "text/plain": [
       "    age  distance  YearsExperience  Salary\n",
       "0  31.1     77.75              1.1   39343\n",
       "1  31.3     78.25              1.3   46205\n",
       "2  31.5     78.75              1.5   37731\n",
       "3  32.0     80.00              2.0   43525\n",
       "4  32.2     80.50              2.2   39891"
      ]
     },
     "execution_count": 3,
     "metadata": {},
     "output_type": "execute_result"
    }
   ],
   "source": [
    "#import data\n",
    "sd = pd.read_csv('data/ml_salary_data.csv')\n",
    "sd.head(5)\n"
   ]
  },
  {
   "cell_type": "code",
   "execution_count": 4,
   "metadata": {},
   "outputs": [
    {
     "data": {
      "text/html": [
       "<div>\n",
       "<style scoped>\n",
       "    .dataframe tbody tr th:only-of-type {\n",
       "        vertical-align: middle;\n",
       "    }\n",
       "\n",
       "    .dataframe tbody tr th {\n",
       "        vertical-align: top;\n",
       "    }\n",
       "\n",
       "    .dataframe thead th {\n",
       "        text-align: right;\n",
       "    }\n",
       "</style>\n",
       "<table border=\"1\" class=\"dataframe\">\n",
       "  <thead>\n",
       "    <tr style=\"text-align: right;\">\n",
       "      <th></th>\n",
       "      <th>YearsExperience</th>\n",
       "      <th>Salary</th>\n",
       "    </tr>\n",
       "  </thead>\n",
       "  <tbody>\n",
       "    <tr>\n",
       "      <th>0</th>\n",
       "      <td>1.1</td>\n",
       "      <td>39343</td>\n",
       "    </tr>\n",
       "    <tr>\n",
       "      <th>1</th>\n",
       "      <td>1.3</td>\n",
       "      <td>46205</td>\n",
       "    </tr>\n",
       "    <tr>\n",
       "      <th>2</th>\n",
       "      <td>1.5</td>\n",
       "      <td>37731</td>\n",
       "    </tr>\n",
       "    <tr>\n",
       "      <th>3</th>\n",
       "      <td>2.0</td>\n",
       "      <td>43525</td>\n",
       "    </tr>\n",
       "    <tr>\n",
       "      <th>4</th>\n",
       "      <td>2.2</td>\n",
       "      <td>39891</td>\n",
       "    </tr>\n",
       "  </tbody>\n",
       "</table>\n",
       "</div>"
      ],
      "text/plain": [
       "   YearsExperience  Salary\n",
       "0              1.1   39343\n",
       "1              1.3   46205\n",
       "2              1.5   37731\n",
       "3              2.0   43525\n",
       "4              2.2   39891"
      ]
     },
     "execution_count": 4,
     "metadata": {},
     "output_type": "execute_result"
    }
   ],
   "source": [
    "#subsetting data\n",
    "sd= sd[['YearsExperience','Salary']]\n",
    "sd.head(5)"
   ]
  },
  {
   "cell_type": "code",
   "execution_count": 5,
   "metadata": {},
   "outputs": [
    {
     "data": {
      "image/png": "[encoded data removed]",
      "text/plain": [
       "<Figure size 576x396 with 1 Axes>"
      ]
     },
     "metadata": {},
     "output_type": "display_data"
    }
   ],
   "source": [
    "#histogram test\n",
    "sns.histplot(sd['Salary'])\n",
    "\n",
    "#setting for small fig size\n",
    "sns.set(rc = {'figure.figsize':(2,2)})"
   ]
  },
  {
   "cell_type": "code",
   "execution_count": 6,
   "metadata": {},
   "outputs": [
    {
     "data": {
      "image/png": "[encoded data removed]",
      "text/plain": [
       "<Figure size 144x144 with 1 Axes>"
      ]
     },
     "metadata": {},
     "output_type": "display_data"
    }
   ],
   "source": [
    "#histogram test\n",
    "sns.histplot(sd['YearsExperience'])\n",
    "\n",
    "#setting for small fig size\n",
    "sns.set(rc = {'figure.figsize':(3,3)})"
   ]
  },
  {
   "cell_type": "code",
   "execution_count": null,
   "metadata": {},
   "outputs": [],
   "source": [
    "pip install statsmodels\n"
   ]
  },
  {
   "cell_type": "code",
   "execution_count": 13,
   "metadata": {},
   "outputs": [
    {
     "data": {
      "image/png": "[encoded data removed]",
      "text/plain": [
       "<Figure size 216x216 with 1 Axes>"
      ]
     },
     "metadata": {},
     "output_type": "display_data"
    }
   ],
   "source": [
    "#qqplot\n",
    "from statsmodels.graphics.gofplots import qqplot\n",
    "\n",
    "#qq norm plot\n",
    "qqplot(sd['Salary'])\n",
    "\n",
    "#setting for small fig size\n",
    "sns.set(rc = {'figure.figsize':(5,5)})"
   ]
  },
  {
   "cell_type": "code",
   "execution_count": 14,
   "metadata": {},
   "outputs": [
    {
     "data": {
      "image/png": "[encoded data removed]",
      "text/plain": [
       "<Figure size 360x360 with 1 Axes>"
      ]
     },
     "metadata": {},
     "output_type": "display_data"
    }
   ],
   "source": [
    "#qqplot\n",
    "from statsmodels.graphics.gofplots import qqplot\n",
    "\n",
    "#qq norm plot\n",
    "qqplot(sd['YearsExperience'])\n",
    "\n",
    "#setting for small fig size\n",
    "sns.set(rc = {'figure.figsize':(5,5)})"
   ]
  },
  {
   "cell_type": "markdown",
   "metadata": {},
   "source": [
    "## 1. Shapiro-Wilk Test\n",
    "The Shapiro-Wilk test evaluates a data sample and quantifies how likely it is that the data was drawn from a Gaussian distribution, named for Samuel Shapiro and Martin Wilk.\n",
    "\n",
    "In practice, the Shapiro-Wilk test is believed to be a reliable test of normality, although there is some suggestion that the test may be suitable for smaller samples of data, e.g. thousands of observations or fewer.\n",
    "\n",
    "The shapiro() SciPy function will calculate the Shapiro-Wilk on a given dataset. The function returns both the W-statistic calculated by the test and the p-value.\n",
    "\n",
    "**Assumptions**\n",
    "\n",
    "Observations in each sample are independent and identically distributed.\n",
    "Interpretation\n",
    "\n",
    "H0: the sample has a Gaussian distribution.\n",
    "H1: the sample does not have a Gaussian distribution"
   ]
  },
  {
   "cell_type": "code",
   "execution_count": 15,
   "metadata": {},
   "outputs": [
    {
     "name": "stdout",
     "output_type": "stream",
     "text": [
      "stat=0.910,p=0.015\n",
      "Probably not gaussian or normal distributions\n"
     ]
    }
   ],
   "source": [
    "#shapiro wilk test\n",
    "\n",
    "# import libarary\n",
    "from scipy.stats import shapiro\n",
    "\n",
    "stat , p = shapiro(sd['Salary'])\n",
    "print('stat=%.3f,p=%.3f'% (stat,p))\n",
    "\n",
    "# make a conditional argument for further case\n",
    "if p > 0.05:\n",
    "  print('Probably gaussian or normal distribution')\n",
    "else:\n",
    "    print('Probably not gaussian or normal distributions')\n"
   ]
  },
  {
   "cell_type": "code",
   "execution_count": 16,
   "metadata": {},
   "outputs": [
    {
     "name": "stdout",
     "output_type": "stream",
     "text": [
      "stat=0.942,p=0.103\n",
      "Probably gaussian or normal distribution\n"
     ]
    }
   ],
   "source": [
    "#shapiro wilk test\n",
    "\n",
    "# import libarary\n",
    "from scipy.stats import shapiro\n",
    "\n",
    "stat , p = shapiro(sd['YearsExperience'])\n",
    "\n",
    "print('stat=%.3f,p=%.3f'% (stat,p))\n",
    "\n",
    "# make a conditional argument for further case\n",
    "if p > 0.05:\n",
    "  print('Probably gaussian or normal distribution')\n",
    "else:\n",
    "    print('Probably not gaussian or normal distributions')"
   ]
  },
  {
   "cell_type": "markdown",
   "metadata": {},
   "source": [
    "## 2. D’Agostino’s K^2 Test\n",
    "The D’Agostino’s K^2 test calculates summary statistics from the data, namely kurtosis and skewness, to determine if the data distribution departs from the normal distribution, named for Ralph D’Agostino.\n",
    "\n",
    "Skew is a quantification of how much a distribution is pushed left or right, a measure of asymmetry in the distribution.\n",
    "Kurtosis quantifies how much of the distribution is in the tail. It is a simple and commonly used statistical test for normality.\n",
    "The D’Agostino’s K^2 test is available via the normaltest() SciPy function and returns the test statistic and the p-value. Assumptions\n",
    "\n",
    "Observations in each sample are independent and identically distributed.\n",
    "**Interpretation**\n",
    "\n",
    "H0: the sample has a Gaussian distribution.\n",
    "H1: the sample does not have a Gaussian distribution."
   ]
  },
  {
   "cell_type": "code",
   "execution_count": 17,
   "metadata": {},
   "outputs": [
    {
     "name": "stdout",
     "output_type": "stream",
     "text": [
      "stat=8.033,p=0.018\n",
      "Probably not gaussian or normal distributions\n"
     ]
    }
   ],
   "source": [
    "#D'Agastino k2 test\n",
    "\n",
    "# import libarary\n",
    "from scipy.stats import normaltest\n",
    "\n",
    "stat , p = normaltest(sd['Salary'])\n",
    "\n",
    "print('stat=%.3f,p=%.3f'% (stat,p))\n",
    "\n",
    "# make a conditional argument for further case\n",
    "if p > 0.05:\n",
    "  print('Probably gaussian or normal distribution')\n",
    "else:\n",
    "    print('Probably not gaussian or normal distributions')"
   ]
  },
  {
   "cell_type": "code",
   "execution_count": 18,
   "metadata": {},
   "outputs": [
    {
     "name": "stdout",
     "output_type": "stream",
     "text": [
      "stat=3.808,p=0.149\n",
      "Probably gaussian or normal distribution\n"
     ]
    }
   ],
   "source": [
    "#D'Agastino k2 test\n",
    "\n",
    "# import libarary\n",
    "from scipy.stats import normaltest\n",
    "\n",
    "stat , p = normaltest(sd['YearsExperience'])\n",
    "\n",
    "print('stat=%.3f,p=%.3f'% (stat,p))\n",
    "\n",
    "# make a conditional argument for further case\n",
    "if p > 0.05:\n",
    "  print('Probably gaussian or normal distribution')\n",
    "else:\n",
    "    print('Probably not gaussian or normal distributions')"
   ]
  },
  {
   "cell_type": "markdown",
   "metadata": {},
   "source": [
    "## 3. Anderson-Darling Test\n",
    "A statistical test that can be used to evaluate whether a data sample comes from one of among many known data samples, named for Theodore Anderson and Donald Darling.\n",
    "\n",
    "It can be used to check whether a data sample is normal. The test is a modified version of a more sophisticated nonparametric goodness-of-fit statistical test called the Kolmogorov-Smirnov test.\n",
    "\n",
    "A feature of the Anderson-Darling test is that it returns a list of critical values rather than a single p-value. This can provide the basis for a more thorough interpretation of the result.\n",
    "\n",
    "The anderson() SciPy function implements the Anderson-Darling test. It takes as parameters the data sample and the name of the distribution to test it against. By default, the test will check against the Gaussian distribution (dist=’norm’).\n",
    "\n",
    "**Assumptions**\n",
    "\n",
    "Observations in each sample are independent and identically distributed.\\\n",
    "\n",
    "**Interpretation**\n",
    "\n",
    "H0: the sample has a Gaussian distribution.\\\n",
    "H1: the sample does not have a Gaussian distribution."
   ]
  },
  {
   "cell_type": "code",
   "execution_count": 19,
   "metadata": {},
   "outputs": [
    {
     "name": "stdout",
     "output_type": "stream",
     "text": [
      "stat= 1.002\n",
      "Probably not gaussian/normal distribution at the 15.0% level\n",
      "Probably not gaussian/normal distribution at the 10.0% level\n",
      "Probably not gaussian/normal distribution at the 5.0% level\n",
      "Probably not gaussian/normal distribution at the 2.5% level\n",
      "Probably not gaussian/normal distribution at the 1.0% level\n"
     ]
    }
   ],
   "source": [
    "#andersons darling test\n",
    "\n",
    "#import libarary\n",
    "from scipy.stats import anderson\n",
    "\n",
    "#select a column to check the normal distribution\n",
    "result = anderson(sd['Salary'])\n",
    "print ('stat= %.3f' % (result.statistic))\n",
    "for i in range (len(result.critical_values)):\n",
    "    sl,cv =result.significance_level[i], result.critical_values[i]\n",
    "    if result.statistic< cv:\n",
    "        print('Probably gaussian/normal distribution at the %.1f%% level' %(sl))\n",
    "    else:\n",
    "        print('Probably not gaussian/normal distribution at the %.1f%% level' %(sl))"
   ]
  },
  {
   "cell_type": "code",
   "execution_count": 20,
   "metadata": {},
   "outputs": [
    {
     "name": "stdout",
     "output_type": "stream",
     "text": [
      "stat= 0.558\n",
      "Probably not gaussian/normal distribution at the 15.0% level\n",
      "Probably gaussian/normal distribution at the 10.0% level\n",
      "Probably gaussian/normal distribution at the 5.0% level\n",
      "Probably gaussian/normal distribution at the 2.5% level\n",
      "Probably gaussian/normal distribution at the 1.0% level\n"
     ]
    }
   ],
   "source": [
    "#andersons darling test\n",
    "\n",
    "#import libarary\n",
    "from scipy.stats import anderson\n",
    "\n",
    "#select a column to check the normal distribution\n",
    "result = anderson(sd['YearsExperience'])\n",
    "print ('stat= %.3f' % (result.statistic))\n",
    "for i in range (len(result.critical_values)):\n",
    "    sl,cv =result.significance_level[i], result.critical_values[i]\n",
    "    if result.statistic< cv:\n",
    "        print('Probably gaussian/normal distribution at the %.1f%% level' %(sl))\n",
    "    else:\n",
    "        print('Probably not gaussian/normal distribution at the %.1f%% level' %(sl))"
   ]
  }
 ],
 "metadata": {
  "interpreter": {
   "hash": "0d69e6d194a9951b421559ac9f165de68eeed9895d5d287c2d9854b2dca19775"
  },
  "kernelspec": {
   "display_name": "Python 3.9.7 ('base')",
   "language": "python",
   "name": "python3"
  },
  "language_info": {
   "codemirror_mode": {
    "name": "ipython",
    "version": 3
   },
   "file_extension": ".py",
   "mimetype": "text/x-python",
   "name": "python",
   "nbconvert_exporter": "python",
   "pygments_lexer": "ipython3",
   "version": "3.9.7"
  },
  "orig_nbformat": 4
 },
 "nbformat": 4,
 "nbformat_minor": 2
}
