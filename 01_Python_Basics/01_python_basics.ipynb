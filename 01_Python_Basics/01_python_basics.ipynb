{
 "cells": [
  {
   "cell_type": "markdown",
   "id": "54337124",
   "metadata": {},
   "source": [
    "# PYTHON KA CHILLA BY BABA AMMAR\n",
    "## Basics of pythons"
   ]
  },
  {
   "cell_type": "markdown",
   "id": "6b6c54cf",
   "metadata": {},
   "source": [
    "### ***01_First_Programming***"
   ]
  },
  {
   "cell_type": "code",
   "execution_count": 2,
   "id": "180328b8",
   "metadata": {},
   "outputs": [
    {
     "name": "stdout",
     "output_type": "stream",
     "text": [
      "5\n",
      "Hello Datascientist Boy\n",
      "Junaid is really a nice name\n",
      "Baba_Aammar is a great teacher\n"
     ]
    }
   ],
   "source": [
    "print(2+3)\n",
    "print(\"Hello Datascientist Boy\")\n",
    "print(\"Junaid is really a nice name\")\n",
    "print(\"Baba_Aammar is a great teacher\")"
   ]
  },
  {
   "cell_type": "markdown",
   "id": "9af9bba8",
   "metadata": {},
   "source": [
    "### ***02_Operators***"
   ]
  },
  {
   "cell_type": "markdown",
   "id": "dd1546c4",
   "metadata": {},
   "source": [
    "**PEMDAS RULE** :\n",
    "Parentheses, Exponents, Multiplication and Division (from left to right), Addition and subtraction (from left to right)."
   ]
  },
  {
   "cell_type": "code",
   "execution_count": 3,
   "id": "999a91ef",
   "metadata": {},
   "outputs": [
    {
     "name": "stdout",
     "output_type": "stream",
     "text": [
      "24\n",
      "24\n",
      "24\n",
      "34.0\n",
      "34\n",
      "1024\n",
      "5\n",
      "142.53333333333333\n"
     ]
    }
   ],
   "source": [
    "print(2+22)\n",
    "print(25-1)\n",
    "print(12*2)\n",
    "print(68/2)\n",
    "print(68//2)\n",
    "print(2**10)\n",
    "print(65%10)\n",
    "print(2**10*4/30+10-4)"
   ]
  },
  {
   "cell_type": "markdown",
   "id": "1cbdf38d",
   "metadata": {},
   "source": [
    "### ***03_strings***"
   ]
  },
  {
   "cell_type": "code",
   "execution_count": 6,
   "id": "e004527e",
   "metadata": {},
   "outputs": [
    {
     "name": "stdout",
     "output_type": "stream",
     "text": [
      "Hi, Junaid!\n",
      "Hello datascientist Boy\n",
      "Junaid is a good name\n",
      "baba aammar is a great teacher\n",
      "whats'up\n",
      "the qoutes are; these'\"\n"
     ]
    }
   ],
   "source": [
    "print(\"Hi, Junaid!\" ) # string\n",
    "print('Hello datascientist Boy') # single qutation mark in string\n",
    "print(\"Junaid is a good name\") # double qutation mark in string\n",
    "print('''baba aammar is a great teacher''') # triple qutation mark in string\n",
    "print(\"whats'up\") # use different qutation marks\n",
    "print('''the qoutes are; these'\"''')"
   ]
  },
  {
   "cell_type": "markdown",
   "id": "d25fc4fb",
   "metadata": {},
   "source": [
    "### ***04_Comments out***"
   ]
  },
  {
   "cell_type": "markdown",
   "id": "dfe33c50",
   "metadata": {},
   "source": [
    "Shortcut key is = **ctrl/**"
   ]
  },
  {
   "cell_type": "code",
   "execution_count": 7,
   "id": "b22d6bf2",
   "metadata": {},
   "outputs": [
    {
     "name": "stdout",
     "output_type": "stream",
     "text": [
      "142.53333333333333\n",
      "the qoutes are \"this\"\n",
      "baba aammar is a great teacher\n"
     ]
    }
   ],
   "source": [
    "print(2**10*4/30+10-4) #its an operator function with numbers\n",
    "print('''the qoutes are \"this\"''')       #its an string function  triple qo\n",
    "print(\"baba aammar is a great teacher\")   #its an string function double qoutes"
   ]
  },
  {
   "cell_type": "markdown",
   "id": "d9e0a239",
   "metadata": {},
   "source": [
    "### ***5_Variables***"
   ]
  },
  {
   "cell_type": "code",
   "execution_count": 8,
   "id": "c0f5d30d",
   "metadata": {},
   "outputs": [
    {
     "name": "stdout",
     "output_type": "stream",
     "text": [
      "5111\n",
      "iam understanding python by aammar\n",
      "5111 iam understanding python by aammar\n",
      "5162\n",
      "5060\n",
      "4611\n",
      "<class 'int'>\n",
      "<class 'str'>\n",
      "<class 'int'>\n",
      "<class 'int'>\n"
     ]
    }
   ],
   "source": [
    "# variable is an object containing specific value updates from up to down or assending orders.\n",
    " \n",
    "from inspect import walktree\n",
    "\n",
    "\n",
    "x=5111\n",
    "print(x)\n",
    "y=\"iam understanding python by aammar\"\n",
    "print(y)\n",
    "print(x,y)\n",
    "z=51\n",
    "print(x+z)\n",
    "t=x-z\n",
    "print(t)\n",
    "t=x-500\n",
    "print(t)\n",
    "#types of variables\n",
    "print(type(x))\n",
    "print(type(y))\n",
    "print(type(z))\n",
    "print(type(t))"
   ]
  },
  {
   "cell_type": "markdown",
   "id": "fe609adb",
   "metadata": {},
   "source": [
    "### ***5.1- Rules for variables***\n",
    "*1-may contain letters,numbs,underscore\\\n",
    "2-dont start with numbers\\\n",
    "3-no spaces pls\\\n",
    "4-no keywords used in functions\\ (break, mean, media, test, train etc.)\n",
    "5-short and descriptive\\\n",
    "6-should use lower case*"
   ]
  },
  {
   "cell_type": "code",
   "execution_count": 6,
   "id": "4cc9b84f",
   "metadata": {},
   "outputs": [
    {
     "name": "stdout",
     "output_type": "stream",
     "text": [
      "life\n",
      "drink\n",
      "tasteless\n",
      "876\n",
      "<class 'str'>\n",
      "<class 'int'>\n"
     ]
    }
   ],
   "source": [
    "water1=\"life\"\n",
    "water2=\"drink\"\n",
    "water3=\"tasteless\"\n",
    "water4=876\n",
    "print(water1)\n",
    "print(water2)\n",
    "print(water3)\n",
    "print(water4)\n",
    "print(type(water1))\n",
    "print(type(water4))"
   ]
  },
  {
   "cell_type": "markdown",
   "id": "3482d430",
   "metadata": {},
   "source": [
    "### ***06_Input_Variables***"
   ]
  },
  {
   "cell_type": "code",
   "execution_count": 5,
   "id": "ff7b3804",
   "metadata": {},
   "outputs": [
    {
     "name": "stdout",
     "output_type": "stream",
     "text": [
      "Fresh juice of all fruites are available\n",
      "apple\n"
     ]
    }
   ],
   "source": [
    "# Simple function\n",
    "\n",
    "juices_available=\"Fresh juice of all fruites are available\"\n",
    "print(juices_available)\n",
    "\n"
   ]
  },
  {
   "cell_type": "code",
   "execution_count": 6,
   "id": "d6efae43",
   "metadata": {},
   "outputs": [
    {
     "name": "stdout",
     "output_type": "stream",
     "text": [
      "Mango\n"
     ]
    }
   ],
   "source": [
    "# Input Function \n",
    "juices_available=input(\"Which Juice do you like most? \")\n",
    "print(juices_available)"
   ]
  },
  {
   "cell_type": "code",
   "execution_count": 7,
   "id": "200fbf17",
   "metadata": {},
   "outputs": [
    {
     "name": "stdout",
     "output_type": "stream",
     "text": [
      "Hello! Junaid\n"
     ]
    }
   ],
   "source": [
    "# Inpur Function af 2nd stage\n",
    "name = input(\"What is your name? \")\n",
    "greetings= (\"Hello!\")\n",
    "print(greetings, name)"
   ]
  },
  {
   "cell_type": "code",
   "execution_count": 8,
   "id": "7ec38e5e",
   "metadata": {},
   "outputs": [
    {
     "name": "stdout",
     "output_type": "stream",
     "text": [
      "Hello! Junaid\n"
     ]
    }
   ],
   "source": [
    "# Inpur Function af 2nd stage another way\n",
    "name = input(\"What is your name? \")\n",
    "print(\"Hello!\", name)"
   ]
  },
  {
   "cell_type": "code",
   "execution_count": 9,
   "id": "6ed90ed4",
   "metadata": {},
   "outputs": [
    {
     "name": "stdout",
     "output_type": "stream",
     "text": [
      "Hello!  Junaid , You are still young\n"
     ]
    }
   ],
   "source": [
    "# Inpur Function af 2nd stage , 3Q\n",
    "name = input(\"What is your name? \")\n",
    "age= input(\"how old are you? \")\n",
    "greetings= \"Hello! \"\n",
    "print(greetings, name, \", You are still young.\")"
   ]
  },
  {
   "cell_type": "markdown",
   "id": "62253e30",
   "metadata": {},
   "source": [
    "### ***07_conditional_logics***"
   ]
  },
  {
   "cell_type": "markdown",
   "id": "3acbd14d",
   "metadata": {},
   "source": [
    "**logical operators are \"true/false\", \"yes/no\" or \"1/0\"\n",
    "  == / != / <  / > / <= / >= **"
   ]
  },
  {
   "cell_type": "code",
   "execution_count": 10,
   "id": "0e0b02f3",
   "metadata": {},
   "outputs": [
    {
     "name": "stdout",
     "output_type": "stream",
     "text": [
      "False\n",
      "True\n",
      "True\n",
      "False\n",
      "True\n",
      "False\n",
      "<class 'str'>\n",
      "False you are suitable\n"
     ]
    }
   ],
   "source": [
    "print( 5==10)\n",
    "print( 5!=10)\n",
    "print( 5<=10)\n",
    "print( 5>=10)\n",
    "print( 5<10)\n",
    "print( 5>10)\n",
    "\n",
    "height_for_model=5\n",
    "Junaid_height= input(\"what is ur height? \")\n",
    "print(type(Junaid_height))\n",
    "print(height_for_model==Junaid_height, \"you are suitable\")"
   ]
  },
  {
   "cell_type": "code",
   "execution_count": 12,
   "id": "00b918ce",
   "metadata": {},
   "outputs": [
    {
     "name": "stdout",
     "output_type": "stream",
     "text": [
      "<class 'int'>\n",
      "False\n"
     ]
    }
   ],
   "source": [
    "#  More application of conditional logical operators\n",
    "\n",
    "# obaid_age= 2\n",
    "# age_at_school= 5\n",
    "# print(obaid_age==age_at_school)\n",
    "\n",
    "age_at_school= 5\n",
    "obaid_age=input(\"how old is your son? \")\n",
    "obaid_age=int(obaid_age)\n",
    "print(type(obaid_age))\n",
    "print(obaid_age==age_at_school)\n",
    "\n",
    "# convert input"
   ]
  },
  {
   "cell_type": "markdown",
   "id": "215ba0af",
   "metadata": {},
   "source": [
    "### ***08_Type_Conversion***"
   ]
  },
  {
   "cell_type": "code",
   "execution_count": 23,
   "id": "028f7bc5",
   "metadata": {},
   "outputs": [
    {
     "name": "stdout",
     "output_type": "stream",
     "text": [
      "<class 'int'>\n",
      "<class 'float'>\n",
      "<class 'str'>\n",
      "271.8\n",
      "<class 'float'>\n"
     ]
    }
   ],
   "source": [
    "x = 18 #integer\n",
    "y = 15.1#float\n",
    "z = \"Tony Jaa!\" # string\n",
    " \n",
    "print(type(x))\n",
    "print(type(y))\n",
    "print(type(z))\n",
    "\n",
    "# Implicit type conversion\n",
    "\n",
    "f=x*y \n",
    "print(f)\n",
    "print(type(f))"
   ]
  },
  {
   "cell_type": "code",
   "execution_count": 36,
   "id": "f4260cca",
   "metadata": {},
   "outputs": [
    {
     "name": "stdout",
     "output_type": "stream",
     "text": [
      "<class 'str'>\n",
      "25\n",
      "25 <class 'int'>\n"
     ]
    }
   ],
   "source": [
    "#explicit type conversion\n",
    "\n",
    "age= input (\"what is your age? \")\n",
    "print(type(age))                  \n",
    "print(int(age))     # \"or\"\n",
    "print(age, type(int(age))) # if we write age in float like 25.5 then? error why?\n"
   ]
  },
  {
   "cell_type": "code",
   "execution_count": 38,
   "id": "92629045",
   "metadata": {},
   "outputs": [
    {
     "name": "stdout",
     "output_type": "stream",
     "text": [
      "<class 'str'>\n",
      "25.5 <class 'float'>\n"
     ]
    }
   ],
   "source": [
    "# if we write age in float like 25.5 then? error why?\n",
    "age= input (\"what is your age? \")\n",
    "print(type(age))\n",
    "print(age, type(float(age)))"
   ]
  },
  {
   "cell_type": "code",
   "execution_count": 39,
   "id": "b88e1c95",
   "metadata": {},
   "outputs": [
    {
     "name": "stdout",
     "output_type": "stream",
     "text": [
      "Junaid\n",
      "Junaid <class 'str'>\n"
     ]
    }
   ],
   "source": [
    "name= input(\"what is your name? \")\n",
    "print(str(name))            #\"or\"\n",
    "print(name, type(str(name)))"
   ]
  },
  {
   "cell_type": "code",
   "execution_count": 10,
   "id": "d27dee3b",
   "metadata": {},
   "outputs": [
    {
     "name": "stdout",
     "output_type": "stream",
     "text": [
      "<class 'int'>\n",
      "<class 'float'>\n",
      "<class 'str'>\n",
      "<class 'float'>\n",
      "<class 'str'>\n"
     ]
    }
   ],
   "source": [
    "x=20\n",
    "y=23.9\n",
    "z=\"elon musk\"\n",
    "\n",
    "print(type(x))\n",
    "print(type(y))\n",
    "print(type(z))\n",
    "\n",
    "\n",
    "print(type(float(x)))\n",
    "\n",
    "print(type(str(z)))"
   ]
  },
  {
   "cell_type": "markdown",
   "id": "42805ba9",
   "metadata": {},
   "source": [
    "### ***09_if_else_elif***"
   ]
  },
  {
   "cell_type": "code",
   "execution_count": 44,
   "id": "d3b3bf47",
   "metadata": {},
   "outputs": [
    {
     "name": "stdout",
     "output_type": "stream",
     "text": [
      " obaid cannot go school\n"
     ]
    }
   ],
   "source": [
    "required_age_at_school=5\n",
    "obaid_age=2\n",
    "\n",
    "# i.e,  can obaid go to school\n",
    "# \"conditional operator must use ==\" & # *intended code because new \"8\" line in after a short tab\n",
    "\n",
    "if obaid_age==required_age_at_school: print(\"congratulations! obaid can join the school\")\n",
    "else: print(\" obaid cannot go school\")\n",
    "\n"
   ]
  },
  {
   "cell_type": "code",
   "execution_count": 46,
   "id": "a4e1838b",
   "metadata": {},
   "outputs": [
    {
     "name": "stdout",
     "output_type": "stream",
     "text": [
      "congratulations! obaid can join the school\n"
     ]
    }
   ],
   "source": [
    "required_age_at_school=5\n",
    "obaid_age=5\n",
    "# i.e,  can obaid go to school\n",
    "if obaid_age==required_age_at_school: print(\"congratulations! obaid can join the school\")\n",
    "else: print(\" obaid cannot go school\")\n"
   ]
  },
  {
   "cell_type": "code",
   "execution_count": 47,
   "id": "efab9338",
   "metadata": {},
   "outputs": [
    {
     "name": "stdout",
     "output_type": "stream",
     "text": [
      " obaid cannot go school\n"
     ]
    }
   ],
   "source": [
    "# i,e\n",
    "required_age_at_school=5\n",
    "obaid_age=3\n",
    "\n",
    "if obaid_age==required_age_at_school:\n",
    "     print(\"congratulations! obaid can join the school\")\n",
    "elif obaid_age > required_age_at_school:\n",
    "     print(\" he must have to join high school\")\n",
    "else:\n",
    "     print(\" obaid cannot go school\")"
   ]
  },
  {
   "cell_type": "code",
   "execution_count": 48,
   "id": "97a23f4b",
   "metadata": {},
   "outputs": [
    {
     "name": "stdout",
     "output_type": "stream",
     "text": [
      "you must have to takecare of him, he is a baby\n"
     ]
    }
   ],
   "source": [
    "# i.e\n",
    "\n",
    "required_age_at_school=5\n",
    "obaid_age=2\n",
    "\n",
    "if obaid_age==required_age_at_school:\n",
    "    print(\"congratulations! obaid can join the school\")\n",
    "elif obaid_age > required_age_at_school:\n",
    "    print(\" he must have to join high school\")\n",
    "elif obaid_age<=2:\n",
    "    print(\"you must have to takecare of him, he is a baby\")\n",
    "else:\n",
    "    print(\" obaid cannot go school\")\n",
    "\n",
    "# if, elif, else, statement clear."
   ]
  },
  {
   "cell_type": "code",
   "execution_count": 52,
   "id": "0c637373",
   "metadata": {},
   "outputs": [
    {
     "name": "stdout",
     "output_type": "stream",
     "text": [
      "your order will be procceded\n"
     ]
    }
   ],
   "source": [
    "fruit_basket_minimum_order=5\n",
    "your_fruits=7\n",
    "# your_fruits=input(\"how many fruits u wanna add? \")\n",
    "# print(type(int(your_fruits)))\n",
    "# print(type(int(fruit_basket_minimum_order)))\n",
    "if your_fruits==fruit_basket_minimum_order:\n",
    "    print(\"your order will be procceded\")\n",
    "elif your_fruits > fruit_basket_minimum_order:\n",
    "    print(\"your order will be procceded\")\n",
    "else:\n",
    "    print(\"you should add more fruits\")"
   ]
  },
  {
   "cell_type": "markdown",
   "id": "0abfdaf0",
   "metadata": {},
   "source": [
    "### ***10_functions***\n",
    "Defining a function"
   ]
  },
  {
   "cell_type": "code",
   "execution_count": 56,
   "id": "e00be583",
   "metadata": {},
   "outputs": [
    {
     "name": "stdout",
     "output_type": "stream",
     "text": [
      " we are learnin with Aammar\n",
      " we are learnin with Aammar\n",
      " we are learnin with Aammar\n",
      " we are learnin with Aammar\n",
      " we are learnin with Aammar\n",
      " we are learnin with Aammar\n",
      " we are learnin with Aammar\n"
     ]
    }
   ],
   "source": [
    "print(\" we are learnin with Aammar\")\n",
    "print(\" we are learnin with Aammar\")\n",
    "print(\" we are learnin with Aammar\")\n",
    "print(\" we are learnin with Aammar\")\n",
    "\n",
    "# we had a mistake of word \"learning\". we muts have to rewrite all words again.. this is called paranthesis \"()\"\n",
    "# here we have to defining a functions write \"def\"\n",
    "\n",
    "# 1\n",
    "def print_codanics():\n",
    "     print(\" we are learnin with Aammar\")\n",
    "     print(\" we are learnin with Aammar\")\n",
    "     print(\" we are learnin with Aammar\")\n",
    "print_codanics() #wrote 3 times"
   ]
  },
  {
   "cell_type": "code",
   "execution_count": 57,
   "id": "5c8077ff",
   "metadata": {},
   "outputs": [
    {
     "name": "stdout",
     "output_type": "stream",
     "text": [
      "we are learning with Aamaar in codanics channel\n",
      "we are learning with Aamaar in codanics channel\n",
      "we are learning with Aamaar in codanics channel\n"
     ]
    }
   ],
   "source": [
    "# 2\n",
    "def print_codanics():\n",
    "     text= \"we are learning with Aamaar in codanics channel\"\n",
    "     print(text)\n",
    "     print(text)\n",
    "     print(text)\n",
    "\n",
    "print_codanics()"
   ]
  },
  {
   "cell_type": "code",
   "execution_count": 58,
   "id": "8c917255",
   "metadata": {},
   "outputs": [
    {
     "name": "stdout",
     "output_type": "stream",
     "text": [
      "we are learning python with aammar in codanics youtube channel\n",
      "we are learning python with aammar in codanics youtube channel\n",
      "we are learning python with aammar in codanics youtube channel\n"
     ]
    }
   ],
   "source": [
    "# 3\n",
    "def print_codanics(text):\n",
    "     print(text)\n",
    "     print(text)\n",
    "     print(text)\n",
    "\n",
    "print_codanics(\"we are learning python with aammar in codanics youtube channel\")"
   ]
  },
  {
   "cell_type": "code",
   "execution_count": 65,
   "id": "569a382e",
   "metadata": {},
   "outputs": [
    {
     "name": "stdout",
     "output_type": "stream",
     "text": [
      "obaid can join the school\n"
     ]
    }
   ],
   "source": [
    "def school_calculator(age, text):\n",
    "     if age==5:\n",
    "         print(\"obaid can join the school\")\n",
    "     elif age>5:\n",
    "         print(\"obaid should go to higher school\")\n",
    "     else:\n",
    "         print(\"obaid is still a baby\")\n",
    "\n",
    "school_calculator(5, \"obaid\")\n"
   ]
  },
  {
   "cell_type": "code",
   "execution_count": 66,
   "id": "90a4e78d",
   "metadata": {},
   "outputs": [
    {
     "name": "stdout",
     "output_type": "stream",
     "text": [
      "obaid should go to higher school\n"
     ]
    }
   ],
   "source": [
    "school_calculator(10, \"obaid\")"
   ]
  },
  {
   "cell_type": "code",
   "execution_count": 67,
   "id": "d2f3ef4f",
   "metadata": {},
   "outputs": [
    {
     "name": "stdout",
     "output_type": "stream",
     "text": [
      "obaid is still a baby\n"
     ]
    }
   ],
   "source": [
    "school_calculator(2, \"obaid\")"
   ]
  },
  {
   "cell_type": "code",
   "execution_count": 68,
   "id": "53740413",
   "metadata": {},
   "outputs": [
    {
     "name": "stdout",
     "output_type": "stream",
     "text": [
      "38\n"
     ]
    }
   ],
   "source": [
    "# defining a function of future\n",
    "\n",
    "def future_age(age):\n",
    "    new_age=age+20\n",
    "    return new_age\n",
    "    print(new_age)\n",
    "\n",
    "future_predicted_age= future_age(18)\n",
    "print(future_predicted_age)\n",
    "\n",
    "# i understand function really well. thanks!"
   ]
  },
  {
   "cell_type": "markdown",
   "id": "159842bd",
   "metadata": {},
   "source": [
    "### ***11- While and for loops***"
   ]
  },
  {
   "cell_type": "code",
   "execution_count": 69,
   "id": "d37f4fed",
   "metadata": {},
   "outputs": [
    {
     "name": "stdout",
     "output_type": "stream",
     "text": [
      "0\n",
      "1\n",
      "2\n",
      "3\n",
      "4\n"
     ]
    }
   ],
   "source": [
    "# While loops\n",
    "\n",
    "x=0\n",
    "while (x<5):\n",
    "    print(x)\n",
    "    x=(x+1)"
   ]
  },
  {
   "cell_type": "code",
   "execution_count": 70,
   "id": "2453fad5",
   "metadata": {},
   "outputs": [
    {
     "name": "stdout",
     "output_type": "stream",
     "text": [
      "5\n"
     ]
    }
   ],
   "source": [
    "x=5\n",
    "while(x<7):\n",
    "    print(x)\n",
    "    x=(x+2)"
   ]
  },
  {
   "cell_type": "code",
   "execution_count": 72,
   "id": "01c706c7",
   "metadata": {},
   "outputs": [
    {
     "name": "stdout",
     "output_type": "stream",
     "text": [
      "3\n",
      "4\n",
      "5\n",
      "6\n",
      "7\n",
      "77\n",
      "78\n",
      "79\n",
      "80\n",
      "81\n",
      "82\n",
      "83\n",
      "84\n",
      "85\n",
      "86\n",
      "87\n"
     ]
    }
   ],
   "source": [
    "# for loops\n",
    "\n",
    "for a in range(3,8):\n",
    "    print(a)\n",
    "\n",
    "for t in range(77,88):\n",
    "    print(t)\n"
   ]
  },
  {
   "cell_type": "code",
   "execution_count": 71,
   "id": "1b0277aa",
   "metadata": {},
   "outputs": [
    {
     "name": "stdout",
     "output_type": "stream",
     "text": [
      "blue\n",
      "pink\n",
      "yellow\n",
      "green\n"
     ]
    }
   ],
   "source": [
    "colors=[\"blue\",\"pink\",\"red\",\"yellow\",\"green\"]\n",
    "for c in colors:\n",
    "    # if (c==\"red\"):break\n",
    "    if (c==\"red\"):continue\n",
    "    print(c)"
   ]
  },
  {
   "cell_type": "code",
   "execution_count": 73,
   "id": "ee434674",
   "metadata": {},
   "outputs": [
    {
     "name": "stdout",
     "output_type": "stream",
     "text": [
      "mon\n",
      "tue\n",
      "wed\n",
      "thus\n",
      "sat\n",
      "sun\n"
     ]
    }
   ],
   "source": [
    "# array\n",
    "days = (\"mon\", \"tue\", \"wed\", \"thus\", \"fri\", \"sat\", \"sun\")\n",
    "\n",
    "for d in days:\n",
    "    # if (d==\"fri\"):break\n",
    "    if (d==\"fri\"): continue #it skips d (friday excluded)\n",
    "    print(d)"
   ]
  },
  {
   "cell_type": "markdown",
   "id": "5b10fd06",
   "metadata": {},
   "source": [
    "### ***12-Libararies (import)***"
   ]
  },
  {
   "cell_type": "code",
   "execution_count": 74,
   "id": "c519be7b",
   "metadata": {},
   "outputs": [
    {
     "name": "stdout",
     "output_type": "stream",
     "text": [
      "value 3.141592653589793\n",
      "38.5\n"
     ]
    }
   ],
   "source": [
    "import math\n",
    "print(\"value\", math.pi)\n",
    "\n",
    "import statistics\n",
    "x=[22,33,44,55]\n",
    "print(statistics.mean(x))\n",
    "\n",
    "#numpy, pandas, skilearn, etc"
   ]
  },
  {
   "cell_type": "markdown",
   "id": "f7525c09",
   "metadata": {},
   "source": [
    "### ***13_troble_shooting***\n",
    "\n",
    "Three types of errors.\\\n",
    "syntex error (, . \"etc type of error\").\\\n",
    "runtime error (mathematical error).\\\n",
    "symentic error (our own fault) very difficult to solve."
   ]
  },
  {
   "cell_type": "code",
   "execution_count": null,
   "id": "e20255df",
   "metadata": {},
   "outputs": [],
   "source": [
    "print(iam Junaid)# syntax error\n",
    "print(25/0)           # runntime error \n",
    "name=Junaid\n",
    "print(\"hello name)\"   # unknown error\n",
    "\n",
    "# trouble shooting is easy"
   ]
  },
  {
   "cell_type": "markdown",
   "id": "34179c73",
   "metadata": {},
   "source": [
    "**THE CODE IS MADE BY PYTHON VSCODE IDE JUPYTER SAVED AS HTML.\n",
    "ITS THE END.\n",
    "BUNDLES OF THANKS AND APPRECIATION TO THE INSTRUCTOR BABA AAMMAR.\n",
    "JAZAKALLAH KHAIR."
   ]
  }
 ],
 "metadata": {
  "kernelspec": {
   "display_name": "Python 3 (ipykernel)",
   "language": "python",
   "name": "python3"
  },
  "language_info": {
   "codemirror_mode": {
    "name": "ipython",
    "version": 3
   },
   "file_extension": ".py",
   "mimetype": "text/x-python",
   "name": "python",
   "nbconvert_exporter": "python",
   "pygments_lexer": "ipython3",
   "version": "3.9.7"
  }
 },
 "nbformat": 4,
 "nbformat_minor": 5
}
