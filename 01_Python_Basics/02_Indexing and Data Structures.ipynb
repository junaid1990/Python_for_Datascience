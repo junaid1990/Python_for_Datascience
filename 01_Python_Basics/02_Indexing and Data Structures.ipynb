{
 "cells": [
  {
   "cell_type": "markdown",
   "id": "235671a9",
   "metadata": {},
   "source": [
    "# ***Indexing***\n",
    "*Making a string*"
   ]
  },
  {
   "cell_type": "code",
   "execution_count": 1,
   "id": "c389cc70",
   "metadata": {},
   "outputs": [],
   "source": [
    "a =\"Russian Salad\""
   ]
  },
  {
   "cell_type": "code",
   "execution_count": 2,
   "id": "6d37c8b3",
   "metadata": {},
   "outputs": [
    {
     "data": {
      "text/plain": [
       "'Russian Salad'"
      ]
     },
     "execution_count": 2,
     "metadata": {},
     "output_type": "execute_result"
    }
   ],
   "source": [
    "a"
   ]
  },
  {
   "cell_type": "markdown",
   "id": "6f570be2",
   "metadata": {},
   "source": [
    "*Length of the string*"
   ]
  },
  {
   "cell_type": "code",
   "execution_count": 3,
   "id": "e6a6ecd8",
   "metadata": {},
   "outputs": [
    {
     "data": {
      "text/plain": [
       "13"
      ]
     },
     "execution_count": 3,
     "metadata": {},
     "output_type": "execute_result"
    }
   ],
   "source": [
    "len(a)"
   ]
  },
  {
   "cell_type": "code",
   "execution_count": 4,
   "id": "65a919ff",
   "metadata": {},
   "outputs": [
    {
     "data": {
      "text/plain": [
       "'R'"
      ]
     },
     "execution_count": 4,
     "metadata": {},
     "output_type": "execute_result"
    }
   ],
   "source": [
    "a[0]"
   ]
  },
  {
   "cell_type": "code",
   "execution_count": 5,
   "id": "48de513f",
   "metadata": {},
   "outputs": [
    {
     "data": {
      "text/plain": [
       "'u'"
      ]
     },
     "execution_count": 5,
     "metadata": {},
     "output_type": "execute_result"
    }
   ],
   "source": [
    "a[1]"
   ]
  },
  {
   "cell_type": "code",
   "execution_count": 6,
   "id": "f85c0c25",
   "metadata": {},
   "outputs": [
    {
     "data": {
      "text/plain": [
       "'s'"
      ]
     },
     "execution_count": 6,
     "metadata": {},
     "output_type": "execute_result"
    }
   ],
   "source": [
    "a[2]"
   ]
  },
  {
   "cell_type": "code",
   "execution_count": 7,
   "id": "915980b6",
   "metadata": {},
   "outputs": [
    {
     "data": {
      "text/plain": [
       "'e'"
      ]
     },
     "execution_count": 7,
     "metadata": {},
     "output_type": "execute_result"
    }
   ],
   "source": [
    "a[14]"
   ]
  },
  {
   "cell_type": "markdown",
   "id": "b785b123",
   "metadata": {},
   "source": [
    "*last indeces are exclusive*"
   ]
  },
  {
   "cell_type": "code",
   "execution_count": 7,
   "id": "cd3e8dce",
   "metadata": {},
   "outputs": [
    {
     "data": {
      "text/plain": [
       "'Russian '"
      ]
     },
     "execution_count": 7,
     "metadata": {},
     "output_type": "execute_result"
    }
   ],
   "source": [
    "a[0:8]"
   ]
  },
  {
   "cell_type": "code",
   "execution_count": 8,
   "id": "e2f87cbc",
   "metadata": {},
   "outputs": [
    {
     "data": {
      "text/plain": [
       "'d'"
      ]
     },
     "execution_count": 8,
     "metadata": {},
     "output_type": "execute_result"
    }
   ],
   "source": [
    "a[-1]"
   ]
  },
  {
   "cell_type": "code",
   "execution_count": 9,
   "id": "2b34a4fd",
   "metadata": {},
   "outputs": [
    {
     "data": {
      "text/plain": [
       "'n'"
      ]
     },
     "execution_count": 9,
     "metadata": {},
     "output_type": "execute_result"
    }
   ],
   "source": [
    "a[-7]"
   ]
  },
  {
   "cell_type": "code",
   "execution_count": 12,
   "id": "b2939036",
   "metadata": {},
   "outputs": [
    {
     "data": {
      "text/plain": [
       "'Salad'"
      ]
     },
     "execution_count": 12,
     "metadata": {},
     "output_type": "execute_result"
    }
   ],
   "source": [
    "a[-5:15]"
   ]
  },
  {
   "cell_type": "markdown",
   "id": "232e5e63",
   "metadata": {},
   "source": [
    "##STRINGS METHODS "
   ]
  },
  {
   "cell_type": "code",
   "execution_count": 13,
   "id": "20b93cc4",
   "metadata": {},
   "outputs": [],
   "source": [
    "food = \"Pizza\""
   ]
  },
  {
   "cell_type": "code",
   "execution_count": 14,
   "id": "26496f47",
   "metadata": {},
   "outputs": [
    {
     "data": {
      "text/plain": [
       "'Pizza'"
      ]
     },
     "execution_count": 14,
     "metadata": {},
     "output_type": "execute_result"
    }
   ],
   "source": [
    "food"
   ]
  },
  {
   "cell_type": "code",
   "execution_count": 15,
   "id": "5ef574ce",
   "metadata": {},
   "outputs": [
    {
     "data": {
      "text/plain": [
       "5"
      ]
     },
     "execution_count": 15,
     "metadata": {},
     "output_type": "execute_result"
    }
   ],
   "source": [
    "len(food)"
   ]
  },
  {
   "cell_type": "code",
   "execution_count": 16,
   "id": "a63fc48e",
   "metadata": {},
   "outputs": [
    {
     "data": {
      "text/plain": [
       "'Pizza'"
      ]
     },
     "execution_count": 16,
     "metadata": {},
     "output_type": "execute_result"
    }
   ],
   "source": [
    "#capitalize each word\n",
    "food.capitalize()"
   ]
  },
  {
   "cell_type": "code",
   "execution_count": 17,
   "id": "fd4dcd58",
   "metadata": {},
   "outputs": [
    {
     "data": {
      "text/plain": [
       "'PIZZA'"
      ]
     },
     "execution_count": 17,
     "metadata": {},
     "output_type": "execute_result"
    }
   ],
   "source": [
    "#uppercase whole\n",
    "food.upper()"
   ]
  },
  {
   "cell_type": "code",
   "execution_count": 18,
   "id": "eea0c6b7",
   "metadata": {},
   "outputs": [
    {
     "data": {
      "text/plain": [
       "'pizza'"
      ]
     },
     "execution_count": 18,
     "metadata": {},
     "output_type": "execute_result"
    }
   ],
   "source": [
    "#lowercase whole\n",
    "food.lower()"
   ]
  },
  {
   "cell_type": "code",
   "execution_count": 22,
   "id": "bbab7141",
   "metadata": {},
   "outputs": [
    {
     "data": {
      "text/plain": [
       "'Shizza'"
      ]
     },
     "execution_count": 22,
     "metadata": {},
     "output_type": "execute_result"
    }
   ],
   "source": [
    "#relace\n",
    "food.replace(\"P\",\"Sh\")"
   ]
  },
  {
   "cell_type": "code",
   "execution_count": 23,
   "id": "ea5315af",
   "metadata": {},
   "outputs": [],
   "source": [
    "myself=\"I am a Phd scholar of Environmental Science from China currently suspended due to Pandemic\""
   ]
  },
  {
   "cell_type": "code",
   "execution_count": 24,
   "id": "c4eb3bf3",
   "metadata": {},
   "outputs": [
    {
     "data": {
      "text/plain": [
       "'I am a Phd scholar of Environmental Science from China currently suspended due to Pandemic'"
      ]
     },
     "execution_count": 24,
     "metadata": {},
     "output_type": "execute_result"
    }
   ],
   "source": [
    "myself"
   ]
  },
  {
   "cell_type": "code",
   "execution_count": 25,
   "id": "925e2185",
   "metadata": {},
   "outputs": [
    {
     "data": {
      "text/plain": [
       "6"
      ]
     },
     "execution_count": 25,
     "metadata": {},
     "output_type": "execute_result"
    }
   ],
   "source": [
    "#counting a specific letter\n",
    "myself.count(\"a\")"
   ]
  },
  {
   "cell_type": "code",
   "execution_count": 22,
   "id": "0fd57edc",
   "metadata": {},
   "outputs": [
    {
     "data": {
      "text/plain": [
       "2"
      ]
     },
     "execution_count": 22,
     "metadata": {},
     "output_type": "execute_result"
    }
   ],
   "source": [
    "myself.count(\"C\")"
   ]
  },
  {
   "cell_type": "markdown",
   "id": "9cbba803",
   "metadata": {},
   "source": [
    "### *Finding an index number in a string*"
   ]
  },
  {
   "cell_type": "code",
   "execution_count": 28,
   "id": "9be81bcc",
   "metadata": {},
   "outputs": [],
   "source": [
    "myself= \"I am a Phd scholar of Environmental Science from China currently suspended due to Pandemic\""
   ]
  },
  {
   "cell_type": "code",
   "execution_count": 29,
   "id": "92c1a1bf",
   "metadata": {},
   "outputs": [
    {
     "data": {
      "text/plain": [
       "'I am a Phd scholar of Environmental Science from China currently suspended due to Pandemic'"
      ]
     },
     "execution_count": 29,
     "metadata": {},
     "output_type": "execute_result"
    }
   ],
   "source": [
    "myself"
   ]
  },
  {
   "cell_type": "code",
   "execution_count": 30,
   "id": "7e3302e3",
   "metadata": {},
   "outputs": [
    {
     "data": {
      "text/plain": [
       "36"
      ]
     },
     "execution_count": 30,
     "metadata": {},
     "output_type": "execute_result"
    }
   ],
   "source": [
    "myself.find(\"Sci\")"
   ]
  },
  {
   "cell_type": "code",
   "execution_count": 31,
   "id": "4e8b88ad",
   "metadata": {},
   "outputs": [
    {
     "data": {
      "text/plain": [
       "82"
      ]
     },
     "execution_count": 31,
     "metadata": {},
     "output_type": "execute_result"
    }
   ],
   "source": [
    "myself.find(\"Pandemic\")"
   ]
  },
  {
   "cell_type": "markdown",
   "id": "7bbc3744",
   "metadata": {},
   "source": [
    "### *how to split a string?*"
   ]
  },
  {
   "cell_type": "code",
   "execution_count": 32,
   "id": "3cd79044",
   "metadata": {},
   "outputs": [
    {
     "data": {
      "text/plain": [
       "['I',\n",
       " 'am',\n",
       " 'a',\n",
       " 'Phd',\n",
       " 'scholar',\n",
       " 'of',\n",
       " 'Environmental',\n",
       " 'Science',\n",
       " 'from',\n",
       " 'China',\n",
       " 'currently',\n",
       " 'suspended',\n",
       " 'due',\n",
       " 'to',\n",
       " 'Pandemic']"
      ]
     },
     "execution_count": 32,
     "metadata": {},
     "output_type": "execute_result"
    }
   ],
   "source": [
    "myself.split(\" \")"
   ]
  },
  {
   "cell_type": "code",
   "execution_count": 34,
   "id": "d8514455",
   "metadata": {},
   "outputs": [
    {
     "data": {
      "text/plain": [
       "' i love fruits, chocolates, biscuits, mutton'"
      ]
     },
     "execution_count": 34,
     "metadata": {},
     "output_type": "execute_result"
    }
   ],
   "source": [
    "### How to Split a String\n",
    "food = \" i love fruits, chocolates, biscuits, mutton\"\n",
    "food"
   ]
  },
  {
   "cell_type": "markdown",
   "id": "245ab36c",
   "metadata": {},
   "source": [
    "---"
   ]
  },
  {
   "cell_type": "markdown",
   "id": "cfb07189",
   "metadata": {},
   "source": [
    "<span style=\"color:yellow\"> **Note:**   \"_--- means a straight line / break line._\"</span>."
   ]
  },
  {
   "cell_type": "markdown",
   "id": "e54d1980",
   "metadata": {},
   "source": [
    "# ***Basic data structure in python***\n",
    "### 1 - Tuple\n",
    "### 2 - List\n",
    "### 3 - Dictionaries\n",
    "### 4 - Set"
   ]
  },
  {
   "cell_type": "markdown",
   "id": "214161a9",
   "metadata": {},
   "source": [
    "## _1- Tuple_ (Rules)\n",
    "- Ordered collection of elements\n",
    "- Enclosed in () round braces / paranthesis\n",
    "- Different kind of elements can be stored\n",
    "- Once elements are stored you can not change them (unmutateable)\n"
   ]
  },
  {
   "cell_type": "code",
   "execution_count": 39,
   "id": "e6acf9c3",
   "metadata": {},
   "outputs": [
    {
     "data": {
      "text/plain": [
       "(2, 'python', 'true', 3.5)"
      ]
     },
     "execution_count": 39,
     "metadata": {},
     "output_type": "execute_result"
    }
   ],
   "source": [
    "tup1= (2, \"python\", \"true\", 3.5) # all types includes string, boolean, float, integer etc.\n",
    "tup1"
   ]
  },
  {
   "cell_type": "code",
   "execution_count": 40,
   "id": "131e9a03",
   "metadata": {},
   "outputs": [
    {
     "data": {
      "text/plain": [
       "tuple"
      ]
     },
     "execution_count": 40,
     "metadata": {},
     "output_type": "execute_result"
    }
   ],
   "source": [
    "# type of tuple \n",
    "type(tup1)"
   ]
  },
  {
   "cell_type": "code",
   "execution_count": 46,
   "id": "826fb971",
   "metadata": {},
   "outputs": [
    {
     "data": {
      "text/plain": [
       "('python', 'true')"
      ]
     },
     "execution_count": 46,
     "metadata": {},
     "output_type": "execute_result"
    }
   ],
   "source": [
    "# Indexing in tuple\n",
    "tup1[1], tup1[2]"
   ]
  },
  {
   "cell_type": "code",
   "execution_count": 47,
   "id": "4080d701",
   "metadata": {},
   "outputs": [
    {
     "data": {
      "text/plain": [
       "2"
      ]
     },
     "execution_count": 47,
     "metadata": {},
     "output_type": "execute_result"
    }
   ],
   "source": [
    "tup1[0]"
   ]
  },
  {
   "cell_type": "code",
   "execution_count": 48,
   "id": "456bfc51",
   "metadata": {},
   "outputs": [
    {
     "data": {
      "text/plain": [
       "(2, 'python', 'true', 3.5)"
      ]
     },
     "execution_count": 48,
     "metadata": {},
     "output_type": "execute_result"
    }
   ],
   "source": [
    "# last element is exclusive\n",
    "tup1[0:5]"
   ]
  },
  {
   "cell_type": "code",
   "execution_count": 49,
   "id": "6bf957fe",
   "metadata": {},
   "outputs": [
    {
     "data": {
      "text/plain": [
       "4"
      ]
     },
     "execution_count": 49,
     "metadata": {},
     "output_type": "execute_result"
    }
   ],
   "source": [
    "# counting of elements in tuple\n",
    "len(tup1)"
   ]
  },
  {
   "cell_type": "code",
   "execution_count": 50,
   "id": "2cae0ad8",
   "metadata": {},
   "outputs": [
    {
     "data": {
      "text/plain": [
       "(5, 'Junaid', 2.5, False)"
      ]
     },
     "execution_count": 50,
     "metadata": {},
     "output_type": "execute_result"
    }
   ],
   "source": [
    "tup2= (5, \"Junaid\", 2.5, False)\n",
    "tup2"
   ]
  },
  {
   "cell_type": "code",
   "execution_count": 51,
   "id": "41b6d853",
   "metadata": {},
   "outputs": [
    {
     "data": {
      "text/plain": [
       "(2, 'python', 'true', 3.5, 5, 'Junaid', 2.5, False)"
      ]
     },
     "execution_count": 51,
     "metadata": {},
     "output_type": "execute_result"
    }
   ],
   "source": [
    "# concatinatie (to add 2 or <2 tuple)\n",
    "tup1+tup2"
   ]
  },
  {
   "cell_type": "code",
   "execution_count": 52,
   "id": "ac8323a0",
   "metadata": {},
   "outputs": [
    {
     "data": {
      "text/plain": [
       "(2, 'python', 'true', 3.5, 2, 'python', 'true', 3.5, 5, 'Junaid', 2.5, False)"
      ]
     },
     "execution_count": 52,
     "metadata": {},
     "output_type": "execute_result"
    }
   ],
   "source": [
    "# concatinate + repeat\n",
    "tup1*2 + tup2"
   ]
  },
  {
   "cell_type": "code",
   "execution_count": 53,
   "id": "abaa1467",
   "metadata": {},
   "outputs": [],
   "source": [
    "# same way we can addition, substract, multiplication etc"
   ]
  },
  {
   "cell_type": "code",
   "execution_count": 54,
   "id": "f9867498",
   "metadata": {
    "scrolled": true
   },
   "outputs": [
    {
     "data": {
      "text/plain": [
       "(20, 30, 60, 50, 80)"
      ]
     },
     "execution_count": 54,
     "metadata": {},
     "output_type": "execute_result"
    }
   ],
   "source": [
    "tup3= (20, 30, 60, 50, 80)\n",
    "tup3"
   ]
  },
  {
   "cell_type": "code",
   "execution_count": 55,
   "id": "716085cb",
   "metadata": {},
   "outputs": [
    {
     "data": {
      "text/plain": [
       "20"
      ]
     },
     "execution_count": 55,
     "metadata": {},
     "output_type": "execute_result"
    }
   ],
   "source": [
    "# Minimum\n",
    "min(tup3)"
   ]
  },
  {
   "cell_type": "code",
   "execution_count": 56,
   "id": "a021acd3",
   "metadata": {},
   "outputs": [
    {
     "data": {
      "text/plain": [
       "80"
      ]
     },
     "execution_count": 56,
     "metadata": {},
     "output_type": "execute_result"
    }
   ],
   "source": [
    "# Maximum\n",
    "max(tup3)"
   ]
  },
  {
   "cell_type": "code",
   "execution_count": 57,
   "id": "809fe514",
   "metadata": {},
   "outputs": [
    {
     "data": {
      "text/plain": [
       "(20, 30, 60, 50, 80, 20, 30, 60, 50, 80)"
      ]
     },
     "execution_count": 57,
     "metadata": {},
     "output_type": "execute_result"
    }
   ],
   "source": [
    "# Repetition,\n",
    "tup3*2 "
   ]
  },
  {
   "cell_type": "markdown",
   "id": "73859e59",
   "metadata": {},
   "source": [
    "#### _Write \"tup3.\" after \".\" how many function we see? can check these all functions._  __Assignment__\n",
    "#### _But why it doesnot have multiplication this?_ __Assignment__ \n",
    "#### _Mark down language , it is very interesting._"
   ]
  },
  {
   "cell_type": "markdown",
   "id": "3041dd12",
   "metadata": {},
   "source": [
    "---"
   ]
  },
  {
   "cell_type": "markdown",
   "id": "1bb187a4",
   "metadata": {},
   "source": [
    "## _2- Lists_ (Rules)\n",
    "- Ordered collection of elements\n",
    "- Enclosed in [ ] square brackets/braces\n",
    "- Mutateable , we can change value"
   ]
  },
  {
   "cell_type": "code",
   "execution_count": 59,
   "id": "8c776af1",
   "metadata": {},
   "outputs": [
    {
     "data": {
      "text/plain": [
       "[1, 'obaid', False]"
      ]
     },
     "execution_count": 59,
     "metadata": {},
     "output_type": "execute_result"
    }
   ],
   "source": [
    "list1 = [1, \"obaid\", False]\n",
    "list1"
   ]
  },
  {
   "cell_type": "code",
   "execution_count": 60,
   "id": "464deedf",
   "metadata": {},
   "outputs": [
    {
     "data": {
      "text/plain": [
       "list"
      ]
     },
     "execution_count": 60,
     "metadata": {},
     "output_type": "execute_result"
    }
   ],
   "source": [
    "type(list1)"
   ]
  },
  {
   "cell_type": "code",
   "execution_count": 61,
   "id": "7fb525c8",
   "metadata": {},
   "outputs": [
    {
     "data": {
      "text/plain": [
       "3"
      ]
     },
     "execution_count": 61,
     "metadata": {},
     "output_type": "execute_result"
    }
   ],
   "source": [
    "len(list1)"
   ]
  },
  {
   "cell_type": "code",
   "execution_count": 62,
   "id": "70723a54",
   "metadata": {},
   "outputs": [
    {
     "data": {
      "text/plain": [
       "[3, 5, 'junaid', 'obaid', 450, 30.5, True]"
      ]
     },
     "execution_count": 62,
     "metadata": {},
     "output_type": "execute_result"
    }
   ],
   "source": [
    "list2 = [3, 5, \"junaid\", \"obaid\", 450, 30.5, True]\n",
    "list2"
   ]
  },
  {
   "cell_type": "code",
   "execution_count": 63,
   "id": "656e0311",
   "metadata": {
    "scrolled": true
   },
   "outputs": [
    {
     "data": {
      "text/plain": [
       "[1, 'obaid', False, 3, 5, 'junaid', 'obaid', 450, 30.5, True]"
      ]
     },
     "execution_count": 63,
     "metadata": {},
     "output_type": "execute_result"
    }
   ],
   "source": [
    "list1 + list2"
   ]
  },
  {
   "cell_type": "code",
   "execution_count": 64,
   "id": "87370d52",
   "metadata": {},
   "outputs": [
    {
     "data": {
      "text/plain": [
       "[1, 'obaid', False, 'codanic youtube']"
      ]
     },
     "execution_count": 64,
     "metadata": {},
     "output_type": "execute_result"
    }
   ],
   "source": [
    "list1.append(\"codanic youtube\")\n",
    "list1"
   ]
  },
  {
   "cell_type": "code",
   "execution_count": 65,
   "id": "4d2d85f3",
   "metadata": {},
   "outputs": [],
   "source": [
    "# list1.count()\n",
    "# list1"
   ]
  },
  {
   "cell_type": "code",
   "execution_count": 66,
   "id": "587852fd",
   "metadata": {},
   "outputs": [
    {
     "data": {
      "text/plain": [
       "[20, 30, 60, 5, 15, 555, 12.3, 34.5, 67.8]"
      ]
     },
     "execution_count": 66,
     "metadata": {},
     "output_type": "execute_result"
    }
   ],
   "source": [
    "list3=[20,30,60,5,15,555, 12.3, 34.5, 67.8]\n",
    "list3"
   ]
  },
  {
   "cell_type": "code",
   "execution_count": 67,
   "id": "e91f1c62",
   "metadata": {},
   "outputs": [
    {
     "data": {
      "text/plain": [
       "9"
      ]
     },
     "execution_count": 67,
     "metadata": {},
     "output_type": "execute_result"
    }
   ],
   "source": [
    "len(list3)"
   ]
  },
  {
   "cell_type": "code",
   "execution_count": 68,
   "id": "b1fef1ee",
   "metadata": {},
   "outputs": [
    {
     "data": {
      "text/plain": [
       "[20, 30, 60, 5, 15, 555, 12.3, 34.5, 67.8]"
      ]
     },
     "execution_count": 68,
     "metadata": {},
     "output_type": "execute_result"
    }
   ],
   "source": [
    "# sorting\n",
    "list3.sort\n",
    "list3"
   ]
  },
  {
   "cell_type": "code",
   "execution_count": 69,
   "id": "7334422c",
   "metadata": {},
   "outputs": [
    {
     "data": {
      "text/plain": [
       "[20,\n",
       " 30,\n",
       " 60,\n",
       " 5,\n",
       " 15,\n",
       " 555,\n",
       " 12.3,\n",
       " 34.5,\n",
       " 67.8,\n",
       " 20,\n",
       " 30,\n",
       " 60,\n",
       " 5,\n",
       " 15,\n",
       " 555,\n",
       " 12.3,\n",
       " 34.5,\n",
       " 67.8]"
      ]
     },
     "execution_count": 69,
     "metadata": {},
     "output_type": "execute_result"
    }
   ],
   "source": [
    "# repeatinig\n",
    "list3*2"
   ]
  },
  {
   "cell_type": "code",
   "execution_count": 70,
   "id": "9c2517ee",
   "metadata": {},
   "outputs": [
    {
     "data": {
      "text/plain": [
       "[1,\n",
       " 'obaid',\n",
       " False,\n",
       " 'codanic youtube',\n",
       " 3,\n",
       " 5,\n",
       " 'junaid',\n",
       " 'obaid',\n",
       " 450,\n",
       " 30.5,\n",
       " True]"
      ]
     },
     "execution_count": 70,
     "metadata": {},
     "output_type": "execute_result"
    }
   ],
   "source": [
    "# concaticate\n",
    "list1+list2"
   ]
  },
  {
   "cell_type": "code",
   "execution_count": 71,
   "id": "82625d63",
   "metadata": {},
   "outputs": [
    {
     "data": {
      "text/plain": [
       "[1,\n",
       " 'obaid',\n",
       " False,\n",
       " 'codanic youtube',\n",
       " 3,\n",
       " 5,\n",
       " 'junaid',\n",
       " 'obaid',\n",
       " 450,\n",
       " 30.5,\n",
       " True,\n",
       " 20,\n",
       " 30,\n",
       " 60,\n",
       " 5,\n",
       " 15,\n",
       " 555,\n",
       " 12.3,\n",
       " 34.5,\n",
       " 67.8]"
      ]
     },
     "execution_count": 71,
     "metadata": {},
     "output_type": "execute_result"
    }
   ],
   "source": [
    "# combine lists with previous list\n",
    "lists= list1+list2+list3\n",
    "lists"
   ]
  },
  {
   "cell_type": "markdown",
   "id": "0e235ed6",
   "metadata": {},
   "source": [
    "## _3- Dictionaries_ (Rules)\n",
    "- Collection of elements of unordered/ unordered collection of elements\n",
    "- Key and value\n",
    "- Curly braces or brackets { }\n",
    "- Mutateable/changeable\n"
   ]
  },
  {
   "cell_type": "code",
   "execution_count": 72,
   "id": "f34429b7",
   "metadata": {},
   "outputs": [
    {
     "data": {
      "text/plain": [
       "{'samosa': 30, 'pakora': 100, 'Raita': 20, 'salad': 50, 'Chiken role': 30}"
      ]
     },
     "execution_count": 72,
     "metadata": {},
     "output_type": "execute_result"
    }
   ],
   "source": [
    "# food and their prices\n",
    "food1= {\"samosa\":30, \"pakora\":100, \"Raita\":20, \"salad\":50, \"Chiken role\": 30} \n",
    "# *\"samosa\" is key and \"30\" is value.\n",
    "food1"
   ]
  },
  {
   "cell_type": "code",
   "execution_count": 73,
   "id": "40daf886",
   "metadata": {},
   "outputs": [
    {
     "data": {
      "text/plain": [
       "dict"
      ]
     },
     "execution_count": 73,
     "metadata": {},
     "output_type": "execute_result"
    }
   ],
   "source": [
    "type(food1)"
   ]
  },
  {
   "cell_type": "code",
   "execution_count": 74,
   "id": "dc054bd4",
   "metadata": {},
   "outputs": [
    {
     "data": {
      "text/plain": [
       "dict_keys(['samosa', 'pakora', 'Raita', 'salad', 'Chiken role'])"
      ]
     },
     "execution_count": 74,
     "metadata": {},
     "output_type": "execute_result"
    }
   ],
   "source": [
    "# extract data\n",
    "keys1= food1.keys()\n",
    "keys1"
   ]
  },
  {
   "cell_type": "code",
   "execution_count": 75,
   "id": "8f6a3437",
   "metadata": {},
   "outputs": [
    {
     "data": {
      "text/plain": [
       "dict_values([30, 100, 20, 50, 30])"
      ]
     },
     "execution_count": 75,
     "metadata": {},
     "output_type": "execute_result"
    }
   ],
   "source": [
    "values1= food1.values()\n",
    "values1"
   ]
  },
  {
   "cell_type": "code",
   "execution_count": 76,
   "id": "6f42305f",
   "metadata": {},
   "outputs": [
    {
     "data": {
      "text/plain": [
       "{'samosa': 30,\n",
       " 'pakora': 100,\n",
       " 'Raita': 20,\n",
       " 'salad': 50,\n",
       " 'Chiken role': 30,\n",
       " 'Tikki': 10}"
      ]
     },
     "execution_count": 76,
     "metadata": {},
     "output_type": "execute_result"
    }
   ],
   "source": [
    "# adding new element\n",
    "food1[\"Tikki\"]= 10\n",
    "food1"
   ]
  },
  {
   "cell_type": "code",
   "execution_count": 77,
   "id": "4c56d2f2",
   "metadata": {},
   "outputs": [
    {
     "data": {
      "text/plain": [
       "{'samosa': 30,\n",
       " 'pakora': 100,\n",
       " 'Raita': 20,\n",
       " 'salad': 50,\n",
       " 'Chiken role': 30,\n",
       " 'Tikki': 15}"
      ]
     },
     "execution_count": 77,
     "metadata": {},
     "output_type": "execute_result"
    }
   ],
   "source": [
    "#  update the value\n",
    "food1[\"Tikki\"]=15\n",
    "food1"
   ]
  },
  {
   "cell_type": "code",
   "execution_count": 78,
   "id": "69bc59c7",
   "metadata": {},
   "outputs": [
    {
     "data": {
      "text/plain": [
       "{'Dates': 50, 'Chocolates': 200, 'Sawiyan': 1000}"
      ]
     },
     "execution_count": 78,
     "metadata": {},
     "output_type": "execute_result"
    }
   ],
   "source": [
    "food2 = {\"Dates\":50, \"Chocolates\":200, \"Sawiyan\":1000}\n",
    "food2"
   ]
  },
  {
   "cell_type": "code",
   "execution_count": 79,
   "id": "17eb4726",
   "metadata": {},
   "outputs": [
    {
     "data": {
      "text/plain": [
       "{'samosa': 30,\n",
       " 'pakora': 100,\n",
       " 'Raita': 20,\n",
       " 'salad': 50,\n",
       " 'Chiken role': 30,\n",
       " 'Tikki': 15,\n",
       " 'Dates': 50,\n",
       " 'Chocolates': 200,\n",
       " 'Sawiyan': 1000}"
      ]
     },
     "execution_count": 79,
     "metadata": {},
     "output_type": "execute_result"
    }
   ],
   "source": [
    "# contatinate\n",
    "food1.update(food2)\n",
    "food1"
   ]
  },
  {
   "cell_type": "markdown",
   "id": "b5bae809",
   "metadata": {},
   "source": [
    "## _4- Sets_ (Rules)\n",
    "- Unordered and unindexed\n",
    "- Curly braces { }\n",
    "- No duplicate allowed"
   ]
  },
  {
   "cell_type": "code",
   "execution_count": 80,
   "id": "d8edcb5f",
   "metadata": {},
   "outputs": [
    {
     "data": {
      "text/plain": [
       "{1, 2.2, 5.2, 'Junaid', 'codanics', 'obaid'}"
      ]
     },
     "execution_count": 80,
     "metadata": {},
     "output_type": "execute_result"
    }
   ],
   "source": [
    "s1= {1, 2.2, 5.2, \"Junaid\", \"obaid\", \"codanics\"}\n",
    "s1"
   ]
  },
  {
   "cell_type": "code",
   "execution_count": 81,
   "id": "b2f65988",
   "metadata": {},
   "outputs": [
    {
     "data": {
      "text/plain": [
       "{1, 2.2, 5.2, 'Junaid', 'codanics', 'obaid', 'youtube'}"
      ]
     },
     "execution_count": 81,
     "metadata": {},
     "output_type": "execute_result"
    }
   ],
   "source": [
    "s1.add(\"youtube\")\n",
    "s1\n",
    "#*note: boolian operators cant be added in this i.e False, True; can add strings, integer, float number, duplicate cannt be added"
   ]
  },
  {
   "cell_type": "code",
   "execution_count": 82,
   "id": "beb67b92",
   "metadata": {},
   "outputs": [
    {
     "data": {
      "text/plain": [
       "{1, 2.2, 5.2, 'Junaid', 'codanics', 'youtube'}"
      ]
     },
     "execution_count": 82,
     "metadata": {},
     "output_type": "execute_result"
    }
   ],
   "source": [
    "s1.remove(\"obaid\")\n",
    "s1"
   ]
  }
 ],
 "metadata": {
  "kernelspec": {
   "display_name": "Python 3 (ipykernel)",
   "language": "python",
   "name": "python3"
  },
  "language_info": {
   "codemirror_mode": {
    "name": "ipython",
    "version": 3
   },
   "file_extension": ".py",
   "mimetype": "text/x-python",
   "name": "python",
   "nbconvert_exporter": "python",
   "pygments_lexer": "ipython3",
   "version": "3.9.7"
  }
 },
 "nbformat": 4,
 "nbformat_minor": 5
}
